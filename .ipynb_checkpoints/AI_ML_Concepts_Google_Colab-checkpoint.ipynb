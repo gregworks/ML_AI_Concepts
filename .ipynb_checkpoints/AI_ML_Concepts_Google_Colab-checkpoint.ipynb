{
 "cells": [
  {
   "cell_type": "markdown",
   "metadata": {
    "id": "mhic_yK1P91z"
   },
   "source": [
    "# AI and ML Concepts\n",
    "\n",
    "\n"
   ]
  },
  {
   "cell_type": "markdown",
   "metadata": {
    "id": "8KZOOKo2P910"
   },
   "source": [
    "<img src=\"https://drive.google.com/uc?id=1Ml5Yuez3MU-c_tFawOYZ15LQf-eqYS_n\" width=\"1500\" height=\"10\" align=\"center\"/>\n"
   ]
  },
  {
   "cell_type": "markdown",
   "metadata": {
    "id": "tAJtICWYP910"
   },
   "source": [
    "<a id=\"learning-objectives\"></a>\n",
    "## **Outline**\n",
    "*In this lesson, we will go over the folowing:*\n",
    "\n",
    "- Jupyter Notebooks\n",
    "- Data science and the data science workflow.\n",
    "- Test train split\n",
    "- Over/underfitting concepts\n",
    "- Data Science Applications\n",
    "- AI ethics"
   ]
  },
  {
   "cell_type": "markdown",
   "metadata": {
    "id": "2XH4B7blP911"
   },
   "source": [
    "<img src=\"https://drive.google.com/uc?id=1Ml5Yuez3MU-c_tFawOYZ15LQf-eqYS_n\" width=\"1500\" height=\"10\" align=\"center\"/>\n"
   ]
  },
  {
   "cell_type": "markdown",
   "metadata": {
    "id": "_C4MxswKP911"
   },
   "source": [
    "<img src=\"https://drive.google.com/uc?id=11HYtR-RYGpyCBnr_JEQFC3-Id9DD8yK9\">\n",
    "<img src=\"https://drive.google.com/uc?id=1Ml5Yuez3MU-c_tFawOYZ15LQf-eqYS_n\" width=\"1500\" height=\"10\" align=\"center\"/>\n"
   ]
  },
  {
   "cell_type": "markdown",
   "metadata": {
    "id": "T7lWSwSZP911"
   },
   "source": [
    "### **What Are Some Common Questions Asked in Data Science?**\n",
    "\n",
    "**Machine learning more or less asks the following questions:**\n",
    "\n",
    "- Does X predict Y?\n",
    "- Are there any distinct groups in our data?\n",
    "- What are the key components of our data?\n",
    "- Is one of our observations “weird”?\n",
    "\n",
    "**From a business perspective, Data Science can help us with use cases such as:**\n",
    "\n",
    "- What is the likelihood that a customer will buy this product?\n",
    "- Is this a good or bad review?\n",
    "- How much demand will there be for my service tomorrow?\n",
    "- Is this the cheapest way to deliver my goods?\n",
    "- Is there a better way to segment my marketing strategies?\n",
    "- What groups of products are customers purchasing together?\n",
    "- Can we automate this simple yes/no decision?\n",
    "- Examples in your context?\n",
    "  - Where should Starbucks open new stores for maximum profitability?\n",
    "  - Can we use historical data and external factors (e.g., weather, holidays) to predict future demand accurately?\n",
    "  - How can we segment Starbucks customers based on their purchasing behavior, demographics, and preferences?\n",
    "\n"
   ]
  },
  {
   "cell_type": "markdown",
   "metadata": {
    "id": "cHZ3T6MzP911"
   },
   "source": [
    "<img src=\"https://drive.google.com/uc?id=1Ml5Yuez3MU-c_tFawOYZ15LQf-eqYS_n\" width=\"1500\" height=\"10\" align=\"center\"/>\n"
   ]
  },
  {
   "cell_type": "markdown",
   "metadata": {
    "id": "1Xi7LsFbP911"
   },
   "source": [
    "<img src=\"https://drive.google.com/uc?id=1YnoTuYrZqIjfbUZ1-9oXaiAVzdZO6Q8W\" />\n",
    "\n",
    "\n",
    "<img src=\"https://drive.google.com/uc?id=1Ml5Yuez3MU-c_tFawOYZ15LQf-eqYS_n\" width=\"1500\" height=\"10\" align=\"center\"/>\n"
   ]
  },
  {
   "cell_type": "markdown",
   "metadata": {
    "id": "2fXRAmItP912"
   },
   "source": [
    "## **Are AI and Machine Learning different things?**\n",
    "\n",
    "The AI onion\n",
    "\n",
    "- Artificial intelligence is an umbrella term that covers machine learning and deep learning\n",
    "- Deep learning and neural networks are also types of machine learning algorithms  \n",
    "- What Data Science VS. (Machine Learning Engineer):\n",
    "\n",
    "\n",
    "<img src=\"https://drive.google.com/uc?id=1V-Ad-43H35O_ugnSTcKAJnoQwR40IN4o\" width=\"500\" align=\"center\"/>"
   ]
  },
  {
   "cell_type": "markdown",
   "metadata": {
    "id": "9vtnbLT8P912"
   },
   "source": [
    "<img src=\"https://drive.google.com/uc?id=1Ml5Yuez3MU-c_tFawOYZ15LQf-eqYS_n\" width=\"1500\" height=\"10\" align=\"center\"/>\n"
   ]
  },
  {
   "cell_type": "markdown",
   "metadata": {
    "id": "7bZA52nZP912"
   },
   "source": [
    "## **When did this whole thing started?**\n",
    "\n",
    "AI is nothing new\n",
    "> - it started in 1950's\n",
    "> - followed by two winters\n",
    "\n",
    "<img src=\"https://drive.google.com/uc?id=1JyY6WHnTo8EUM4edKW4RyguHcqg62C73\" width=\"800\" align=\"center\"/>\n",
    "\n",
    "\n",
    "<img src=\"https://drive.google.com/uc?id=1AP5tlofaNHT656d5GEJjYYMAw4MGQLHp\" width=\"800\"  align=\"center\"/>"
   ]
  },
  {
   "cell_type": "markdown",
   "metadata": {
    "id": "QyQCxBvSP912"
   },
   "source": [
    "<img src=\"https://drive.google.com/uc?id=1Ml5Yuez3MU-c_tFawOYZ15LQf-eqYS_n\" width=\"1500\" height=\"10\" align=\"center\"/>\n"
   ]
  },
  {
   "cell_type": "markdown",
   "metadata": {
    "id": "Pn_OCHQnP912"
   },
   "source": [
    "## **Why now?**\n",
    "\n",
    "\n",
    "In the last few years there has been a lot of advancements in technologies that enable AI\n",
    "> - Compute Power\n",
    "> - Big Data\n",
    "> - Powerful Algorithms\n",
    "\n",
    "<img src=\"https://drive.google.com/uc?id=11n3lxdbF1QP_8phC--vz6VlPtacVzjWp\" width=\"500\" align=\"center\"/>\n",
    "\n",
    "Read more here: https://www.mckinsey.com/business-functions/mckinsey-analytics/our-insights/an-executives-guide-to-ai\n",
    "\n",
    "Can you mention examples of advancements in the above technologies?"
   ]
  },
  {
   "cell_type": "markdown",
   "metadata": {
    "id": "Y9LdM91ZP912"
   },
   "source": [
    "<img src=\"https://drive.google.com/uc?id=1Ml5Yuez3MU-c_tFawOYZ15LQf-eqYS_n\" width=\"1500\" height=\"10\" align=\"center\"/>\n"
   ]
  },
  {
   "cell_type": "markdown",
   "metadata": {
    "id": "GUYTSiI0P912"
   },
   "source": [
    "# **Data collected every minute**\n",
    "<img src=\"https://drive.google.com/uc?id=164-gPtFnclTea5CQ0JYt3_G32QGfhImz\"  align=\"center\"/>\n"
   ]
  },
  {
   "cell_type": "markdown",
   "metadata": {
    "id": "HmfbU2WeP912"
   },
   "source": [
    "<img src=\"https://drive.google.com/uc?id=1Ml5Yuez3MU-c_tFawOYZ15LQf-eqYS_n\" width=\"1500\" height=\"10\" align=\"center\"/>\n"
   ]
  },
  {
   "cell_type": "markdown",
   "metadata": {
    "id": "MKkkWDBPP913"
   },
   "source": [
    "## **Why is AI powerful?**\n",
    "<img src=\"https://drive.google.com/uc?id=1ArPOiuF9p8vztElmHcrTkpbRFtVPx9A3\" width=\"500\"  align=\"center\"/>\n",
    "\n",
    "some human logic in making decisions:\n",
    "\n",
    "<img src=\"https://drive.google.com/uc?id=115kuWbw9vfnIEmcapKtxaTfyXD99wweX\" width=\"600\" align=\"center\"/>\n",
    "\n",
    "\n",
    "Check the demo here:\n",
    "http://www.r2d3.us/visual-intro-to-machine-learning-part-1/"
   ]
  },
  {
   "cell_type": "markdown",
   "metadata": {
    "id": "hQtiMgOnP913"
   },
   "source": [
    "<img src=\"https://drive.google.com/uc?id=1Ml5Yuez3MU-c_tFawOYZ15LQf-eqYS_n\" width=\"1500\" height=\"10\" align=\"center\"/>\n"
   ]
  },
  {
   "cell_type": "markdown",
   "metadata": {
    "id": "rHHVzAGtP913"
   },
   "source": [
    "## **Brain Vs. Computer**\n",
    "<img src=\"https://drive.google.com/uc?id=1nyM-_dE6m5IGjF2ZtFKPjq7F8TcFGY-3\" width=\"600\" height=\"600\" align=\"center\"/>"
   ]
  },
  {
   "cell_type": "markdown",
   "metadata": {
    "id": "uoQeb3FlP913"
   },
   "source": [
    "<img src=\"https://drive.google.com/uc?id=1Ml5Yuez3MU-c_tFawOYZ15LQf-eqYS_n\" width=\"1500\" height=\"10\" align=\"center\"/>\n"
   ]
  },
  {
   "cell_type": "markdown",
   "metadata": {
    "id": "H6q9TQXUP913"
   },
   "source": [
    "<a id=\"dswf\"></a>\n",
    "## **Introduction: The Data Science Workflow**\n",
    "\n",
    "\n",
    "- **Understand the Business Problem**: Develop a hypothesis-driven approach to your analysis.\n",
    "- **Data Acquisition and Understanding**: Select, import, explore, and clean your data.\n",
    "- **Build a Model**: engineer your data, build models, evaluate them and build the best model.\n",
    "- **Deployment**: deploy your model in production and deliver ROI!\n",
    "\n",
    "<img src=\"https://drive.google.com/uc?id=1hs3prB6jyXjq5_JILZKUlg8bzw89zifm\" width=\"650\" align=\"center\"/>\n",
    "\n"
   ]
  },
  {
   "cell_type": "markdown",
   "metadata": {
    "id": "FfSCu69VP913"
   },
   "source": [
    "<img src=\"https://drive.google.com/uc?id=1Ml5Yuez3MU-c_tFawOYZ15LQf-eqYS_n\" width=\"1500\" height=\"10\" align=\"center\"/>\n"
   ]
  },
  {
   "cell_type": "markdown",
   "metadata": {},
   "source": [
    "# Group Exercise: Research a Domain\n",
    "\n",
    "Go to the addtional resources folder and looke at `02-exercise-research-a-domain.md`"
   ]
  },
  {
   "cell_type": "markdown",
   "metadata": {
    "id": "4hXwY_DaP913"
   },
   "source": [
    "# **This is what data scientists do**\n",
    "\n",
    "> They take care of the above lifecycle\n",
    "\n",
    "Effective data scientists are able to identify relevant questions, collect data from a multitude of different data sources, organize the information, translate results into solutions, and communicate their findings in a way that positively affects business decisions. These skills are required in almost all industries, causing skilled data scientists to be increasingly valuable to companies.\n",
    "\n",
    "<img src=\"https://drive.google.com/uc?id=1Fw8F9wCtxe3rvq8t-xaZJYUYoSHjXavs\" width=\"500\"  align=\"center\"/>\n"
   ]
  },
  {
   "cell_type": "markdown",
   "metadata": {
    "id": "bBr0mtW3P913"
   },
   "source": [
    "<img src=\"https://drive.google.com/uc?id=1Ml5Yuez3MU-c_tFawOYZ15LQf-eqYS_n\" width=\"1500\" height=\"10\" align=\"center\"/>\n"
   ]
  },
  {
   "cell_type": "markdown",
   "metadata": {
    "id": "p8iXbnS4P913"
   },
   "source": [
    "\n",
    "### **Data scientist vs. machine learning engineer**\n",
    "\n",
    "\n",
    "\n",
    "- Data scientists primarily work on extracting insights and knowledge from data.\n",
    "- Responsibilities:\n",
    "  - Data collection, cleaning, and preprocessing.\n",
    "  - Exploratory Data Analysis (EDA).\n",
    "  - Developing predictive models and machine learning algorithms.\n",
    "  - Communicating findings through visualization and reports.\n",
    "- Tools: Python, R, SQL, Data Visualization libraries.\n",
    "- Skills: Statistical analysis, domain expertise, storytelling.\n",
    "\n",
    "- Machine Learning Engineers focus on deploying machine learning models into production.\n",
    "- Responsibilities:\n",
    "  - Building and optimizing machine learning pipelines.\n",
    "  - Developing and maintaining APIs for model deployment.\n",
    "  - Ensuring scalability and performance of ML systems.\n",
    "  - Collaborating with Data Scientists to integrate models.\n",
    "- Tools: Python, TensorFlow, PyTorch, Docker, Kubernetes.\n",
    "- Skills: Software engineering, DevOps, model deployment.\n",
    "\n",
    "\n",
    "Key differences:\n",
    "\n",
    "- Data Scientist:\n",
    "  - More focused on data analysis and modeling.\n",
    "  - Emphasizes statistical analysis and domain knowledge.\n",
    "  - Communicates insights to stakeholders.\n",
    "\n",
    "- Machine Learning Engineer:\n",
    "  - Concentrates on deploying ML models in real-world applications.\n",
    "  - Strong software engineering and DevOps skills.\n",
    "  - Collaborates with Data Scientists to operationalize models.\n"
   ]
  },
  {
   "cell_type": "markdown",
   "metadata": {
    "id": "HpZVH7vOP914"
   },
   "source": [
    "<img src=\"https://drive.google.com/uc?id=1Ml5Yuez3MU-c_tFawOYZ15LQf-eqYS_n\" width=\"1500\" height=\"10\" align=\"center\"/>\n"
   ]
  },
  {
   "cell_type": "markdown",
   "metadata": {
    "id": "Xz92FZW1P914"
   },
   "source": [
    "## What data engineers, analysts and architects do?\n",
    "\n",
    "ETL and Data Cleaning are the most time consuming steps\n",
    "\n",
    "> Data scientists work with machine learning engineers to move their models to production\n",
    "\n",
    "<img src=\"https://drive.google.com/uc?id=1sz6v1D0tNXUXLmoYZ43ntG2mF8wfJE04\" width=\"900\"  align=\"center\"/>\n",
    "\n",
    "\n",
    "\n",
    "**Times (week / month, .. ) mentioned in the chart are relative**"
   ]
  },
  {
   "cell_type": "markdown",
   "metadata": {
    "id": "lruK_nHWP914"
   },
   "source": [
    "<img src=\"https://drive.google.com/uc?id=1Ml5Yuez3MU-c_tFawOYZ15LQf-eqYS_n\" width=\"1500\" height=\"10\" align=\"center\"/>\n"
   ]
  },
  {
   "cell_type": "markdown",
   "metadata": {
    "id": "9Yh1P9eFP914"
   },
   "source": [
    "# **Let's Review the Data Science Lifecycle Step by Step**\n",
    "\n",
    "<img src=\"https://drive.google.com/uc?id=1hs3prB6jyXjq5_JILZKUlg8bzw89zifm\" width=\"650\" align=\"center\"/>"
   ]
  },
  {
   "cell_type": "markdown",
   "metadata": {
    "id": "IAjBsmRGP914"
   },
   "source": [
    "# **Step 1. Business Understanding**\n",
    "\n",
    "- Identify the business/product objectives.\n",
    "- Identify and hypothesize goals and criteria for success.\n",
    "- Create a set of questions to help you identify the correct data set.\n",
    "\n",
    "## An Example Use Case\n",
    "We work for a real estate company interested in using data science to determine the best properties to buy and resell. Specifically, your company would like to identify the characteristics of residential houses that estimate their sale price and the cost-effectiveness of doing renovations.\n",
    "\n",
    "> #### Identify the Business/Product Objectives\n",
    "\n",
    "The customer tells us their business goals are to accurately predict prices for houses (so that they can sell them for as large a profit as possible) and to identify which kinds of features in the housing market would be more likely to lead to foreclosure and other abnormal sales (which could represent more profitable sales for the company).\n",
    "\n",
    "> #### Identify and Hypothesize Goals and Criteria for Success\n",
    "\n",
    "Ultimately, the customer wants us to:\n",
    "* Deliver a presentation to the real estate team.\n",
    "* Write a business report discussing results, procedures used, and rationales.\n",
    "* Build an API that provides estimated returns.\n",
    "\n",
    "> #### Create a Set of Questions to Help You Identify the Correct Data Set\n",
    "\n",
    "* Can you think of questions that would help this customer deliver on their business goals?\n",
    "* What sort of features or columns would you want to see in the data?"
   ]
  },
  {
   "cell_type": "markdown",
   "metadata": {
    "id": "fgoICyIFP914"
   },
   "source": [
    "<img src=\"https://drive.google.com/uc?id=1Ml5Yuez3MU-c_tFawOYZ15LQf-eqYS_n\" width=\"1500\" height=\"10\" align=\"center\"/>\n"
   ]
  },
  {
   "cell_type": "markdown",
   "metadata": {
    "id": "rjWXlyUfP915"
   },
   "source": [
    "# Step 2. Data Acquisition\n",
    "\n",
    "**Ideal Data vs. Available Data**  \n",
    "\n",
    "Oftentimes, we'll start by identifying the *ideal data* we would want for a project.\n",
    "\n",
    "Then, during the data acquisition phase, we'll learn about the limitations on the types of data actually available. We have to decide if these limitations will inhibit our ability to answer our question of interest or if we can work with what we have to find a reasonable and reliable answer.\n",
    "\n",
    "For example, we provide a set of [housing data for Ames](https://www.kaggle.com/datasets/shashanknecrothapa/ames-housing-dataset), Iowa, which includes:\n",
    "\n",
    "- 20 continuous variables indicating square footage.\n",
    "- 14 discrete variables indicating number of each room type.\n",
    "- 46 categorical variables containing 2–28 classes each, e.g., street type (gravel/paved) and neighborhood (city district name).\n"
   ]
  },
  {
   "cell_type": "markdown",
   "metadata": {
    "id": "EGqgVlnTP915"
   },
   "source": [
    "<img src=\"https://drive.google.com/uc?id=1Ml5Yuez3MU-c_tFawOYZ15LQf-eqYS_n\" width=\"1500\" height=\"10\" align=\"center\"/>\n"
   ]
  },
  {
   "cell_type": "markdown",
   "metadata": {
    "id": "DetP5sz9P915"
   },
   "source": [
    "- **Review the Dataset**\n",
    "  - Take a moment to look through the data description.\n",
    "  - How closely does the set match the ideal data that you envisioned?\n",
    "  - Would it be sufficient for our purposes? What limitations does it have?\n",
    "\n",
    "<img src=\"https://drive.google.com/uc?id=1qBUcy_IRHnp4Jp2zCmm6htMM7_kRKa7C\" />\n",
    "\n",
    "\n",
    "- This is possibly the hardest step in the data science workflow.\n",
    "  - At this stage, it's common to realize that the problem you're trying to solve may not be solvable with the information available.\n",
    "  - The data could be incomplete, non-existent, or unable to meet the criteria necessary to answer your question.\n",
    "\n",
    "- That said, you now have a better feel for the data that's available and the information they could contain.\n",
    "  - You can now identify a new, answerable question that ultimately helps you solve or better understand your problem."
   ]
  },
  {
   "cell_type": "markdown",
   "metadata": {
    "id": "_ZrEcjY9P915"
   },
   "source": [
    "<img src=\"https://drive.google.com/uc?id=1Ml5Yuez3MU-c_tFawOYZ15LQf-eqYS_n\" width=\"1500\" height=\"10\" align=\"center\"/>\n"
   ]
  },
  {
   "cell_type": "markdown",
   "metadata": {
    "id": "pJoVJZptP915"
   },
   "source": [
    "> Some of questions we should discuss in this phase:\n",
    "> - Where are the data coming from?\n",
    "> - How do the data fit together?\n",
    "> - Are there enough data?\n",
    "> - Do our data appropriately align with the question/problem statement?\n",
    "> - Can the data set be trusted? How was it collected?\n",
    "> - Is this data set aggregated? Can we use the aggregation, or do we need to obtain it pre-aggregation?\n",
    "> - What are necessary resources, requirements, assumptions, and constraints?\n",
    "> - Can we import data from the web (Google Analytics, HTML, XML)?\n",
    "> - Can we import data from a file (CSV, XML, TXT, JSON)?\n",
    "> - Can we import data from a pre-existing database (SQL)?\n",
    "> - Can we set up local or remote data structures?\n",
    "> - What are the most appropriate tools for working with the data?\n",
    "> - Do these tools align with the format and size of the data set?"
   ]
  },
  {
   "cell_type": "markdown",
   "metadata": {
    "id": "IZyEQdbkP915"
   },
   "source": [
    "<img src=\"https://drive.google.com/uc?id=1Ml5Yuez3MU-c_tFawOYZ15LQf-eqYS_n\" width=\"1500\" height=\"10\" align=\"center\"/>\n"
   ]
  },
  {
   "cell_type": "markdown",
   "metadata": {
    "id": "jmJaqsRMP915"
   },
   "source": [
    "## 2.1 Data Wrangling & Cleaning\n",
    "\n",
    "This is by far the most time consuming step of Data Science Lifecyle\n",
    "\n",
    "For the Ames housing dataset we discussed,\n",
    "- What if the data are in different databases and we have to consolidate them?\n",
    "- What if the values for some columns in the dataset are missing or in wrong format?\n",
    "\n",
    "\n",
    "<img src=\"https://drive.google.com/uc?id=1WUlSmDiR0sO39z9mb2V1EqbKoHF5lGg6\" width=\"400\" height=\"400\" align=\"center\"/>\n",
    "\n",
    "\n",
    "**we will review and practice the data cleaning process as part of this course.**\n",
    "\n",
    "<img src=\"https://drive.google.com/uc?id=1Ml5Yuez3MU-c_tFawOYZ15LQf-eqYS_n\" width=\"1500\" height=\"10\" align=\"center\"/>\n",
    "\n",
    "\n",
    "## **AI ML algorithms are picky eaters**\n",
    "### They like cookies more than flour (Raw data)\n",
    "<img src=\"https://drive.google.com/uc?id=1b2h1ILwoheKo_KohLkYmTMa-pek0qvOS\" width=\"600\" align=\"center\"/>\n",
    "\n",
    "\n",
    "- Scenario: Building a fruit classification algorithm to distinguish between apples and oranges.\n",
    "\n",
    "- Training Data: The algorithm is trained on a dataset containing images of apples and oranges, learning to identify them based on color, shape, and texture.\n",
    "\n",
    "- Challenge: When presented with an image of a persimmon, a fruit it has never seen during training:\n",
    "\n",
    "  - The algorithm might struggle to classify it correctly.\n",
    "  - This behavior is similar to a picky eater not recognizing an unfamiliar food.\n",
    "\n",
    "- Solution: To make the algorithm less \"picky\":\n",
    "\n",
    "  - Provide a more diverse training dataset with various types of fruits, including persimmons.\n",
    "  - This helps the algorithm become more adaptable to different fruits."
   ]
  },
  {
   "cell_type": "markdown",
   "metadata": {
    "id": "_K86LGSAP916"
   },
   "source": [
    "<img src=\"https://drive.google.com/uc?id=1Ml5Yuez3MU-c_tFawOYZ15LQf-eqYS_n\" width=\"1500\" height=\"10\" align=\"center\"/>\n"
   ]
  },
  {
   "cell_type": "markdown",
   "metadata": {
    "id": "D0cdD7_IP916"
   },
   "source": [
    "# Step 3. Modeling\n",
    "**What is a Model?**\n",
    "\n",
    "- Using Machine Learning algorithms we build a model from input data (image, text, ...)\n",
    "> - In case of housing data set discussed above we can build a model that learns how to predict price of a house\n",
    "- The resulted model is a representative of the data used for training\n",
    "\n",
    "<img src=\"https://drive.google.com/uc?id=1EauXZ6B4vg4zjbsKGfcdVEjPFIhWe14S\" width=\"400\" align=\"center\"/>\n",
    "\n",
    "> - The size of the output model can be alot smaller than the training data"
   ]
  },
  {
   "cell_type": "markdown",
   "metadata": {
    "id": "QKQzoVRgP916"
   },
   "source": [
    "<img src=\"https://drive.google.com/uc?id=1Ml5Yuez3MU-c_tFawOYZ15LQf-eqYS_n\" width=\"1500\" height=\"10\" align=\"center\"/>\n"
   ]
  },
  {
   "cell_type": "markdown",
   "metadata": {
    "id": "g108z028P916"
   },
   "source": [
    "## There are many algorithms that can be used to build a model\n",
    "\n",
    "<img src=\"https://drive.google.com/uc?id=1r3_TU2pcj7i3Lmy6Lirf2g7QhbQZV195\" width=\"700\" height=\"500\" align=\"center\"/>\n",
    "\n",
    "> - Depending on the use case, requirements and available data, a model will be selected!\n",
    "\n",
    "## Data scientists use one of these available algorithms and tune it for their use case\n",
    "> - Most these algorithms are available in public and open source libraries\n",
    "\n",
    "> - Most data Scientists do no build their own algorithms, they just customize and tune an existing algorithm  "
   ]
  },
  {
   "cell_type": "markdown",
   "metadata": {
    "id": "mOJT9MJzP916"
   },
   "source": [
    "<img src=\"https://drive.google.com/uc?id=1Ml5Yuez3MU-c_tFawOYZ15LQf-eqYS_n\" width=\"1500\" height=\"10\" align=\"center\"/>\n"
   ]
  },
  {
   "cell_type": "markdown",
   "metadata": {
    "id": "U1_bkj97P916"
   },
   "source": [
    "<img src=\"https://drive.google.com/uc?id=1N7Yda_zQazAJgIOtDsP2o9VDH7gVOFZH\" />"
   ]
  },
  {
   "cell_type": "markdown",
   "metadata": {
    "id": "nIH1yGnUP917"
   },
   "source": [
    "<img src=\"https://drive.google.com/uc?id=1Ml5Yuez3MU-c_tFawOYZ15LQf-eqYS_n\" width=\"1500\" height=\"10\" align=\"center\"/>\n"
   ]
  },
  {
   "cell_type": "markdown",
   "metadata": {
    "id": "6uESzzVgP917"
   },
   "source": [
    "<img src=\"https://drive.google.com/uc?id=14SSdLLSXyKgRNYDL6Fk68DpmB8orERu9\" />\n",
    "<img src=\"https://drive.google.com/uc?id=1Ml5Yuez3MU-c_tFawOYZ15LQf-eqYS_n\" width=\"1500\" height=\"10\" align=\"center\"/>\n"
   ]
  },
  {
   "cell_type": "markdown",
   "metadata": {
    "id": "E8qEAJKoP917"
   },
   "source": [
    "<img src=\"https://drive.google.com/uc?id=198mmfdkQWIA_JaH8jrvYDcKEA5Ms0KCr\" />\n",
    "\n",
    "<img src=\"https://drive.google.com/uc?id=1Ml5Yuez3MU-c_tFawOYZ15LQf-eqYS_n\" width=\"1500\" height=\"10\" align=\"center\"/>\n"
   ]
  },
  {
   "cell_type": "markdown",
   "metadata": {
    "id": "_rm8ypYKP917"
   },
   "source": [
    "<img src=\"https://drive.google.com/uc?id=1jrCU2J8-HATISy02EWeSAkmYwWbXGMvi\" />\n",
    "\n",
    "<img src=\"https://drive.google.com/uc?id=1Ml5Yuez3MU-c_tFawOYZ15LQf-eqYS_n\" width=\"1500\" height=\"10\" align=\"center\"/>\n"
   ]
  },
  {
   "cell_type": "markdown",
   "metadata": {
    "id": "5LQvTxIsP917"
   },
   "source": [
    "<img src=\"https://drive.google.com/uc?id=1C5gwTHwJDPLBI8-TUg6LZbf4Kq-ORhjl\" />\n",
    "\n",
    "<img src=\"https://drive.google.com/uc?id=1Ml5Yuez3MU-c_tFawOYZ15LQf-eqYS_n\" width=\"1500\" height=\"10\" align=\"center\"/>\n"
   ]
  },
  {
   "cell_type": "markdown",
   "metadata": {
    "id": "EbjpOZY1P917"
   },
   "source": [
    "<img src=\"https://drive.google.com/uc?id=1tfJcrvxtoE9StF7xV2dbPbR7mVxT6OUS\" />\n",
    "\n",
    "<img src=\"https://drive.google.com/uc?id=1Ml5Yuez3MU-c_tFawOYZ15LQf-eqYS_n\" width=\"1500\" height=\"10\" align=\"center\"/>\n"
   ]
  },
  {
   "cell_type": "markdown",
   "metadata": {
    "id": "SMEAWZFBP917"
   },
   "source": [
    "<img src=\"https://drive.google.com/uc?id=13kkTrgNzOp6BHleRQ12fRmVYHdTyRNxo\" />\n",
    "\n",
    "<img src=\"https://drive.google.com/uc?id=1Ml5Yuez3MU-c_tFawOYZ15LQf-eqYS_n\" width=\"1500\" height=\"10\" align=\"center\"/>\n"
   ]
  },
  {
   "cell_type": "markdown",
   "metadata": {
    "id": "M6b1jfAZP917"
   },
   "source": [
    "<img src=\"https://drive.google.com/uc?id=1rI_RfLSJFOJyrS89yXPSLgLWdOR4CtQh\" />\n",
    "\n",
    "<img src=\"https://drive.google.com/uc?id=1Ml5Yuez3MU-c_tFawOYZ15LQf-eqYS_n\" width=\"1500\" height=\"10\" align=\"center\"/>\n"
   ]
  },
  {
   "cell_type": "markdown",
   "metadata": {
    "id": "3_tpMNvtP917"
   },
   "source": [
    "<img src=\"https://drive.google.com/uc?id=1_VZ7sarLmh8IHhO-IQV2gTqZ296oKOHr\" />\n",
    "\n",
    "<img src=\"https://drive.google.com/uc?id=1Ml5Yuez3MU-c_tFawOYZ15LQf-eqYS_n\" width=\"1500\" height=\"10\" align=\"center\"/>\n"
   ]
  },
  {
   "cell_type": "markdown",
   "metadata": {
    "id": "nQrszH2gP918"
   },
   "source": [
    "<img src=\"https://drive.google.com/uc?id=1q_MgKyFEb5Ilo2VVEbHb9kn-ER_nnc7Q\" />\n",
    "\n",
    "<img src=\"https://drive.google.com/uc?id=1Ml5Yuez3MU-c_tFawOYZ15LQf-eqYS_n\" width=\"1500\" height=\"10\" align=\"center\"/>\n"
   ]
  },
  {
   "cell_type": "markdown",
   "metadata": {
    "id": "HR00sTMHP918"
   },
   "source": [
    "<img src=\"https://drive.google.com/uc?id=1C0MFU2FfmN3IrwNXsCAspfMb_Owke-SS\" />\n",
    "\n",
    "<img src=\"https://drive.google.com/uc?id=1Ml5Yuez3MU-c_tFawOYZ15LQf-eqYS_n\" width=\"1500\" height=\"10\" align=\"center\"/>\n"
   ]
  },
  {
   "cell_type": "markdown",
   "metadata": {
    "id": "ejuR0oE5P918"
   },
   "source": [
    "<img src=\"https://drive.google.com/uc?id=1Eftj1l-C1p-DVosKCfVlnmmANwNcaR7j\" />\n",
    "\n",
    "<img src=\"https://drive.google.com/uc?id=1Ml5Yuez3MU-c_tFawOYZ15LQf-eqYS_n\" width=\"1500\" height=\"10\" align=\"center\"/>\n"
   ]
  },
  {
   "cell_type": "markdown",
   "metadata": {
    "id": "jnJPADeHP918"
   },
   "source": [
    "<img src=\"https://drive.google.com/uc?id=18vdxt_FmBYb2DSXZRUX3M7eJLpRfKGSx\" />\n",
    "\n",
    "<img src=\"https://drive.google.com/uc?id=1Ml5Yuez3MU-c_tFawOYZ15LQf-eqYS_n\" width=\"1500\" height=\"10\" align=\"center\"/>\n"
   ]
  },
  {
   "cell_type": "markdown",
   "metadata": {
    "id": "X5p5dKAqP918"
   },
   "source": [
    "<a id=\"common-ml-defs\"> </a>\n",
    "## **3.1 Supervised  vs. Unsupervised Learning**\n",
    "\n",
    "There are two main categories of machine learning: supervised learning and unsupervised learning.\n",
    "\n",
    "**Supervised learning (a.k.a., “predictive modeling”):**  \n",
    "_Classification and regression_\n",
    "- Predicts an outcome based on input data.\n",
    "    - Example: Predicts whether an email is spam or ham.\n",
    "- Attempts to generalize.\n",
    "- Requires past data on the element we want to predict (the target).\n",
    "\n",
    "**Unsupervised learning:**  \n",
    "_Clustering and dimensionality reduction_\n",
    "- Extracts structure from data.\n",
    "    - Example: Segmenting grocery store shoppers into “clusters” that exhibit similar behaviors.\n",
    "- Attempts to represent.\n",
    "- **Does not require** past data on the element we want to predict.\n",
    "\n",
    "<img src=\"https://drive.google.com/uc?id=1K5qzCKIHUkuaiDLsTKMtkKtZL2q87I7b\" width=\"700\" height=\"500\" align=\"center\"/>\n",
    "\n",
    "\n",
    "Oftentimes, we may combine both types of machine learning in a project to reduce the cost of data collection by learning a better representation. This is referred to as transfer learning.\n",
    "\n",
    "Unsupervised learning tends to present more difficult problems because its goals are amorphous. Supervised learning has goals that are almost too clear and can lead people into the trap of optimizing metrics without considering business value."
   ]
  },
  {
   "cell_type": "markdown",
   "metadata": {
    "id": "bfRJ5FCvP918"
   },
   "source": [
    "<img src=\"https://drive.google.com/uc?id=1Ml5Yuez3MU-c_tFawOYZ15LQf-eqYS_n\" width=\"1500\" height=\"10\" align=\"center\"/>\n"
   ]
  },
  {
   "cell_type": "markdown",
   "metadata": {
    "id": "U7pPYfJ_P919"
   },
   "source": [
    "## **An example on supervised learning vs unsupervised learning**"
   ]
  },
  {
   "cell_type": "code",
   "execution_count": null,
   "metadata": {
    "ExecuteTime": {
     "end_time": "2024-04-04T06:50:11.684105Z",
     "start_time": "2024-04-04T06:50:05.749470Z"
    },
    "id": "DVXXbo9GP919",
    "outputId": "f3bd23b0-a1f8-4e76-d4ed-cad3eb66374d"
   },
   "outputs": [
    {
     "data": {
      "image/png": "[encoded data removed]",
      "text/plain": [
       "<Figure size 864x360 with 2 Axes>"
      ]
     },
     "metadata": {
      "needs_background": "light"
     },
     "output_type": "display_data"
    }
   ],
   "source": [
    "# Import necessary libraries\n",
    "import numpy as np\n",
    "import matplotlib.pyplot as plt\n",
    "from sklearn.datasets import load_iris\n",
    "from sklearn.cluster import KMeans\n",
    "from sklearn.linear_model import LogisticRegression\n",
    "from sklearn.model_selection import train_test_split\n",
    "from sklearn.metrics import accuracy_score\n",
    "\n",
    "# Load the Iris dataset\n",
    "iris = load_iris()\n",
    "X = iris.data\n",
    "y = iris.target\n",
    "\n",
    "# Visualize the dataset\n",
    "plt.figure(figsize=(12, 5))\n",
    "\n",
    "# Subplot 1: Sepal Length vs Sepal Width\n",
    "plt.subplot(1, 2, 1)\n",
    "plt.scatter(X[:, 0], X[:, 1], c=y, cmap=plt.cm.Paired)\n",
    "plt.xlabel(\"Sepal Length (cm)\")\n",
    "plt.ylabel(\"Sepal Width (cm)\")\n",
    "plt.title(\"Iris Dataset: Sepal Length vs Sepal Width\")\n",
    "\n",
    "# Subplot 2: Petal Length vs Petal Width\n",
    "plt.subplot(1, 2, 2)\n",
    "plt.scatter(X[:, 2], X[:, 3], c=y, cmap=plt.cm.Paired)\n",
    "plt.xlabel(\"Petal Length (cm)\")\n",
    "plt.ylabel(\"Petal Width (cm)\")\n",
    "plt.title(\"Iris Dataset: Petal Length vs Petal Width\")\n",
    "\n",
    "plt.tight_layout()\n",
    "plt.show()\n",
    "\n",
    "# Split the dataset into a training set and a testing set (for supervised learning)\n",
    "X_train, X_test, y_train, y_test = train_test_split(X, y, test_size=0.2, random_state=42)\n"
   ]
  },
  {
   "cell_type": "markdown",
   "metadata": {
    "id": "Z4CxT8Y8P91-"
   },
   "source": [
    "<img src=\"https://drive.google.com/uc?id=1Ml5Yuez3MU-c_tFawOYZ15LQf-eqYS_n\" width=\"1500\" height=\"10\" align=\"center\"/>\n"
   ]
  },
  {
   "cell_type": "code",
   "execution_count": null,
   "metadata": {
    "ExecuteTime": {
     "end_time": "2024-04-04T06:50:22.484940Z",
     "start_time": "2024-04-04T06:50:16.059012Z"
    },
    "id": "8IrlwWpaP91-",
    "outputId": "84bed68a-eb26-4aef-86d2-5833e75b3d22"
   },
   "outputs": [
    {
     "data": {
      "image/png": "[encoded data removed]",
      "text/plain": [
       "<Figure size 720x432 with 1 Axes>"
      ]
     },
     "metadata": {
      "needs_background": "light"
     },
     "output_type": "display_data"
    },
    {
     "name": "stdout",
     "output_type": "stream",
     "text": [
      "Accuracy in Supervised Learning: 1.0\n"
     ]
    }
   ],
   "source": [
    "\n",
    "# Import necessary libraries\n",
    "import numpy as np\n",
    "import matplotlib.pyplot as plt\n",
    "from sklearn.datasets import load_iris\n",
    "from sklearn.linear_model import LogisticRegression\n",
    "from sklearn.model_selection import train_test_split\n",
    "from sklearn.metrics import accuracy_score\n",
    "\n",
    "# Load the Iris dataset\n",
    "iris = load_iris()\n",
    "X = iris.data[:, 2:4]  # We use only two features (petal length and petal width)\n",
    "y = iris.target\n",
    "\n",
    "# Split the dataset into a training set and a testing set (for supervised learning)\n",
    "X_train, X_test, y_train, y_test = train_test_split(X, y, test_size=0.2, random_state=42)\n",
    "\n",
    "# Supervised Learning: Train a Logistic Regression classifier\n",
    "clf = LogisticRegression(max_iter=200)\n",
    "clf.fit(X_train, y_train)\n",
    "\n",
    "# Predict using the trained classifier\n",
    "y_pred = clf.predict(X_test)\n",
    "\n",
    "# Calculate accuracy\n",
    "accuracy_supervised = accuracy_score(y_test, y_pred)\n",
    "\n",
    "# Visualize the decision boundary\n",
    "plt.figure(figsize=(10, 6))\n",
    "\n",
    "# Plot the training points\n",
    "plt.scatter(X_train[:, 0], X_train[:, 1], c=y_train, cmap=plt.cm.Paired, label='Training Data')\n",
    "\n",
    "# Create a meshgrid to plot the decision boundary\n",
    "x_min, x_max = X[:, 0].min() - 1, X[:, 0].max() + 1\n",
    "y_min, y_max = X[:, 1].min() - 1, X[:, 1].max() + 1\n",
    "xx, yy = np.meshgrid(np.arange(x_min, x_max, 0.01), np.arange(y_min, y_max, 0.01))\n",
    "\n",
    "# Predict the labels for each point in the mesh\n",
    "Z = clf.predict(np.c_[xx.ravel(), yy.ravel()])\n",
    "Z = Z.reshape(xx.shape)\n",
    "\n",
    "# Plot the decision boundary\n",
    "plt.contourf(xx, yy, Z, cmap=plt.cm.Paired, alpha=0.6)\n",
    "\n",
    "plt.xlabel('Petal Length (cm)')\n",
    "plt.ylabel('Petal Width (cm)')\n",
    "plt.title('Supervised Learning: Logistic Regression Decision Boundary')\n",
    "plt.legend()\n",
    "plt.show()\n",
    "\n",
    "# Print accuracy in supervised learning\n",
    "print(\"Accuracy in Supervised Learning:\", accuracy_supervised)\n",
    "\n",
    "\n"
   ]
  },
  {
   "cell_type": "markdown",
   "metadata": {
    "id": "KaRDs2aPP91-"
   },
   "source": [
    "<img src=\"https://drive.google.com/uc?id=1Ml5Yuez3MU-c_tFawOYZ15LQf-eqYS_n\" width=\"1500\" height=\"10\" align=\"center\"/>"
   ]
  },
  {
   "cell_type": "code",
   "execution_count": null,
   "metadata": {
    "ExecuteTime": {
     "end_time": "2024-04-04T06:50:25.231009Z",
     "start_time": "2024-04-04T06:50:25.034060Z"
    },
    "id": "CyAGlMEVP91_",
    "outputId": "81305abb-eac4-45a4-9b16-81b51183181a"
   },
   "outputs": [
    {
     "data": {
      "image/png": "[encoded data removed]",
      "text/plain": [
       "<Figure size 720x432 with 1 Axes>"
      ]
     },
     "metadata": {
      "needs_background": "light"
     },
     "output_type": "display_data"
    }
   ],
   "source": [
    "# Import necessary libraries\n",
    "import numpy as np\n",
    "import matplotlib.pyplot as plt\n",
    "from sklearn.datasets import load_iris\n",
    "from sklearn.cluster import KMeans\n",
    "\n",
    "# Load the Iris dataset\n",
    "iris = load_iris()\n",
    "X = iris.data[:, 2:4]  # We use only two features (petal length and petal width)\n",
    "\n",
    "# Unsupervised Learning: Cluster the data using K-Means\n",
    "kmeans = KMeans(n_clusters=3, random_state=42)\n",
    "kmeans.fit(X)\n",
    "\n",
    "# Predict cluster labels\n",
    "cluster_labels = kmeans.labels_\n",
    "\n",
    "# Visualize the cluster results\n",
    "plt.figure(figsize=(10, 6))\n",
    "\n",
    "# Scatter plot of data points colored by cluster membership\n",
    "plt.scatter(X[:, 0], X[:, 1], c=cluster_labels, cmap=plt.cm.Paired, label='Cluster Labels')\n",
    "\n",
    "# Plot cluster centers as red X markers\n",
    "plt.scatter(kmeans.cluster_centers_[:, 0], kmeans.cluster_centers_[:, 1], s=200, c='red', marker='X', label='Cluster Centers')\n",
    "\n",
    "plt.xlabel(\"Petal Length (cm)\")\n",
    "plt.ylabel(\"Petal Width (cm)\")\n",
    "plt.title('Unsupervised Learning: K-Means Clustering')\n",
    "plt.legend()\n",
    "plt.show()\n"
   ]
  },
  {
   "cell_type": "markdown",
   "metadata": {
    "id": "E37JvwBYP91_"
   },
   "source": [
    "<img src=\"https://drive.google.com/uc?id=1Ml5Yuez3MU-c_tFawOYZ15LQf-eqYS_n\" width=\"1500\" height=\"10\" align=\"center\"/>\n"
   ]
  },
  {
   "cell_type": "markdown",
   "metadata": {
    "id": "Ay-L5NamP91_"
   },
   "source": [
    "## 3.2 **Feature Engineering**\n",
    "\n",
    "#### Data Enrichment\n",
    "\n",
    "- Machine learning algorithms need the data to be engineered before they consume it\n",
    "\n",
    "<img src=\"https://drive.google.com/uc?id=1_3dhbyitkB6h3gXLZcUKryfP2Ad1sDFE\" width=\"300\"  align=\"center\"/>\n",
    "\n",
    "> - We need feature engineering to enrich the raw data\n",
    "\n",
    "Suppose, we want to predict the customers next purchase using a dataset looking like this:\n",
    "\n",
    "<img src=\"https://drive.google.com/uc?id=1B5i88CDMNrqCQ-GlHZOIYCEb-S8CJTAe\" width=\"350\"  align=\"center\"/>\n",
    "\n",
    "How can we enrich this data?\n",
    "\n",
    "<img src=\"https://drive.google.com/uc?id=10sBk5rkNBsghHz0y42QcA-tYE8P-wTs4\" width=\"380\"  align=\"center\"/>\n",
    "\n",
    "Here, creating the new feature “Age” is an example of feature engineering.\n",
    "\n",
    "Now, the steps to do feature engineering are as follows:\n",
    "\n",
    "> - Brainstorm features.\n",
    "> - Create features.\n",
    "> - Check how the features work with the model.\n",
    "> - Start again from first until the features work perfectly.\n",
    "\n",
    "\n",
    "So here is another definition of feature engineering:\n",
    "\n",
    "### Feature engineering is the process of transforming raw data into features that better represent the underlying problem to the predictive models, resulting in improved model accuracy on unseen data."
   ]
  },
  {
   "cell_type": "markdown",
   "metadata": {
    "id": "ZY6uX0CaP91_"
   },
   "source": [
    "<img src=\"https://drive.google.com/uc?id=1Ml5Yuez3MU-c_tFawOYZ15LQf-eqYS_n\" width=\"1500\" height=\"10\" align=\"center\"/>\n"
   ]
  },
  {
   "cell_type": "markdown",
   "metadata": {
    "id": "LB-deOqxP91_"
   },
   "source": [
    "> - Can we use dates to make an API call and get the interest rate for each point at time?\n",
    "> - Can we use dates to calculate stock performance indexes and see if it affects the sale price of a house?\n",
    "\n",
    "You can get creative and creative/engineer new features that can make your model stand out!!!"
   ]
  },
  {
   "cell_type": "markdown",
   "metadata": {
    "id": "gD2c1EihP92A"
   },
   "source": [
    "<img src=\"https://drive.google.com/uc?id=1Ml5Yuez3MU-c_tFawOYZ15LQf-eqYS_n\" width=\"1500\" height=\"10\" align=\"center\"/>"
   ]
  },
  {
   "cell_type": "markdown",
   "metadata": {
    "id": "midT95vbP92A"
   },
   "source": [
    "<img src=\"https://drive.google.com/uc?id=1oj75dHd1VGMQMZjGqWwMJbFQeByCPRlB\" align=\"center\"/>\n",
    "\n",
    "<img src=\"https://drive.google.com/uc?id=1Ml5Yuez3MU-c_tFawOYZ15LQf-eqYS_n\" width=\"1500\" height=\"10\" align=\"center\"/>\n"
   ]
  },
  {
   "cell_type": "markdown",
   "metadata": {
    "id": "YZU6nBLFP92A"
   },
   "source": [
    "<img src=\"https://drive.google.com/uc?id=1TEw5d-j1U73zPZGca5Tu3ZqK5yup43S0\" align=\"center\"/>\n",
    "\n",
    "<img src=\"https://drive.google.com/uc?id=1Ml5Yuez3MU-c_tFawOYZ15LQf-eqYS_n\" width=\"1500\" height=\"10\" align=\"center\"/>\n"
   ]
  },
  {
   "cell_type": "markdown",
   "metadata": {
    "id": "TXqOJh9LP92A"
   },
   "source": [
    "<img src=\"https://drive.google.com/uc?id=1iu13JmvDyUTdYJm1MOOqF9c1sZgaoxmD\" align=\"center\"/>\n",
    "\n",
    "<img src=\"https://drive.google.com/uc?id=1Ml5Yuez3MU-c_tFawOYZ15LQf-eqYS_n\" width=\"1500\" height=\"10\" align=\"center\"/>\n"
   ]
  },
  {
   "cell_type": "markdown",
   "metadata": {
    "id": "FRA6ZsoOP92A"
   },
   "source": [
    "<img src=\"https://drive.google.com/uc?id=1iBH-Gp6J48XovfQ26oqwgeFFoeiJskbn\" align=\"center\"/>\n",
    "\n",
    "<img src=\"https://drive.google.com/uc?id=1Ml5Yuez3MU-c_tFawOYZ15LQf-eqYS_n\" width=\"1500\" height=\"10\" align=\"center\"/>\n"
   ]
  },
  {
   "cell_type": "markdown",
   "metadata": {
    "id": "XyF-GNn1P92A"
   },
   "source": [
    "<img src=\"https://drive.google.com/uc?id=1vBvYCRzNxGLRmPeMCtC21MYM-8she48P\" align=\"center\"/>\n",
    "\n",
    "<img src=\"https://drive.google.com/uc?id=1Ml5Yuez3MU-c_tFawOYZ15LQf-eqYS_n\" width=\"1500\" height=\"10\" align=\"center\"/>\n"
   ]
  },
  {
   "cell_type": "markdown",
   "metadata": {
    "id": "nQa3p1dXP92A"
   },
   "source": [
    "<img src=\"https://drive.google.com/uc?id=1lMrAxARMfOEVmh9AYJeSphCZr9VgIKr4\" align=\"center\"/>\n",
    "\n",
    "<img src=\"https://drive.google.com/uc?id=1Ml5Yuez3MU-c_tFawOYZ15LQf-eqYS_n\" width=\"1500\" height=\"10\" align=\"center\"/>\n"
   ]
  },
  {
   "cell_type": "markdown",
   "metadata": {
    "id": "7Vg9x0KeP92B"
   },
   "source": [
    "<img src=\"https://drive.google.com/uc?id=1SXx_j0hP7b0SmntIknffIOBvSkSJlube\" align=\"center\"/>\n",
    "\n",
    "<img src=\"https://drive.google.com/uc?id=1Ml5Yuez3MU-c_tFawOYZ15LQf-eqYS_n\" width=\"1500\" height=\"10\" align=\"center\"/>\n"
   ]
  },
  {
   "cell_type": "markdown",
   "metadata": {
    "id": "ulBmV8iyP92B"
   },
   "source": [
    "<img src=\"https://drive.google.com/uc?id=1B5NvDORbsJPBd4szr6UrsUU3yErypIE4\" align=\"center\"/>\n",
    "\n",
    "<img src=\"https://drive.google.com/uc?id=1Ml5Yuez3MU-c_tFawOYZ15LQf-eqYS_n\" width=\"1500\" height=\"10\" align=\"center\"/>\n"
   ]
  },
  {
   "cell_type": "markdown",
   "metadata": {
    "id": "oy50KiuwP92B"
   },
   "source": [
    "<img src=\"https://drive.google.com/uc?id=16kQjagGlNiHssfmVJqwxNHy31LTz_cxk\" align=\"center\"/>\n",
    "\n",
    "<img src=\"https://drive.google.com/uc?id=1Ml5Yuez3MU-c_tFawOYZ15LQf-eqYS_n\" width=\"1500\" height=\"10\" align=\"center\"/>\n"
   ]
  },
  {
   "cell_type": "markdown",
   "metadata": {
    "id": "RyrqllylP92B"
   },
   "source": [
    "<img src=\"https://drive.google.com/uc?id=1MYtwOGG9g3V383rB2aGJVZ0oIyvtQ5OK\" align=\"center\"/>\n",
    "\n",
    "<img src=\"https://drive.google.com/uc?id=1Ml5Yuez3MU-c_tFawOYZ15LQf-eqYS_n\" width=\"1500\" height=\"10\" align=\"center\"/>\n"
   ]
  },
  {
   "cell_type": "markdown",
   "metadata": {
    "id": "utLTSd54P92B"
   },
   "source": [
    "<img src=\"https://drive.google.com/uc?id=1iC8Y7Byxf9SyT2Tni1mpW1SP_6jsy1fV\" align=\"center\"/>\n",
    "\n",
    "<img src=\"https://drive.google.com/uc?id=1Ml5Yuez3MU-c_tFawOYZ15LQf-eqYS_n\" width=\"1500\" height=\"10\" align=\"center\"/>\n"
   ]
  },
  {
   "cell_type": "code",
   "execution_count": null,
   "metadata": {
    "id": "TjbY8yMvP92B"
   },
   "outputs": [],
   "source": [
    "%pip install numpy\n",
    "%pip install matplotlib\n",
    "%pip install scikit-learn"
   ]
  },
  {
   "cell_type": "code",
   "execution_count": null,
   "metadata": {
    "ExecuteTime": {
     "end_time": "2024-04-04T06:50:37.586818Z",
     "start_time": "2024-04-04T06:50:36.828218Z"
    },
    "id": "G_darBfCP92B",
    "outputId": "e97dacfa-1ec2-468f-ece7-917e14cd1470"
   },
   "outputs": [
    {
     "data": {
      "image/png": "[encoded data removed]",
      "text/plain": [
       "<Figure size 864x576 with 1 Axes>"
      ]
     },
     "metadata": {
      "needs_background": "light"
     },
     "output_type": "display_data"
    }
   ],
   "source": [
    "import numpy as np\n",
    "import matplotlib.pyplot as plt\n",
    "from sklearn import datasets\n",
    "from sklearn.model_selection import train_test_split\n",
    "from sklearn.tree import DecisionTreeClassifier\n",
    "from sklearn.metrics import confusion_matrix, accuracy_score, precision_score, recall_score, f1_score\n",
    "\n",
    "# Load the Breast Cancer dataset\n",
    "cancer = datasets.load_breast_cancer()\n",
    "X = cancer.data\n",
    "y = cancer.target\n",
    "\n",
    "# Split the data into training and testing sets\n",
    "X_train, X_test, y_train, y_test = train_test_split(X, y, test_size=0.2, random_state=42)\n",
    "\n",
    "# Create a Decision Tree classifier\n",
    "clf = DecisionTreeClassifier()\n",
    "\n",
    "# Fit the classifier on the training data\n",
    "clf.fit(X_train, y_train)\n",
    "\n",
    "\n",
    "# Visualize the decision tree\n",
    "from sklearn.tree import plot_tree\n",
    "plt.figure(figsize=(12, 8))\n",
    "plot_tree(clf, feature_names=cancer.feature_names, class_names=cancer.target_names, filled=True, rounded=True)\n",
    "plt.title(\"Decision Tree Visualization\")\n",
    "plt.show()"
   ]
  },
  {
   "cell_type": "code",
   "execution_count": null,
   "metadata": {
    "ExecuteTime": {
     "end_time": "2024-04-04T06:50:37.742739Z",
     "start_time": "2024-04-04T06:50:37.589728Z"
    },
    "id": "MdthRsvzP92C",
    "outputId": "4b5c2ff0-4ac3-4157-afc3-e22d29157e71"
   },
   "outputs": [
    {
     "name": "stdout",
     "output_type": "stream",
     "text": [
      "Accuracy: 0.9298245614035088\n",
      "Precision: 0.9436619718309859\n",
      "Recall: 0.9436619718309859\n",
      "F1 Score: 0.9436619718309859\n"
     ]
    },
    {
     "data": {
      "image/png": "[encoded data removed]",
      "text/plain": [
       "<Figure size 576x432 with 2 Axes>"
      ]
     },
     "metadata": {
      "needs_background": "light"
     },
     "output_type": "display_data"
    }
   ],
   "source": [
    "\n",
    "# Make predictions on the test data\n",
    "y_pred = clf.predict(X_test)\n",
    "\n",
    "# Calculate performance metrics\n",
    "accuracy = accuracy_score(y_test, y_pred)\n",
    "precision = precision_score(y_test, y_pred)\n",
    "recall = recall_score(y_test, y_pred)\n",
    "f1 = f1_score(y_test, y_pred)\n",
    "\n",
    "# Display the performance metrics\n",
    "print(\"Accuracy:\", accuracy)\n",
    "print(\"Precision:\", precision)\n",
    "print(\"Recall:\", recall)\n",
    "print(\"F1 Score:\", f1)\n",
    "\n",
    "# Calculate and plot the confusion matrix\n",
    "cm = confusion_matrix(y_test, y_pred)\n",
    "plt.figure(figsize=(8, 6))\n",
    "plt.imshow(cm, interpolation='nearest', cmap=plt.cm.Blues)\n",
    "plt.title(\"Confusion Matrix\")\n",
    "plt.colorbar()\n",
    "plt.xticks(np.arange(2), cancer.target_names, rotation=45)\n",
    "plt.yticks(np.arange(2), cancer.target_names)\n",
    "plt.xlabel(\"Predicted\")\n",
    "plt.ylabel(\"True\")\n",
    "plt.show()"
   ]
  },
  {
   "cell_type": "markdown",
   "metadata": {
    "id": "8kRGslmTP92C"
   },
   "source": [
    "## **3.3 OverFitting and UnderFitting**\n",
    "\n",
    "\n",
    "What is a Good Model?\n",
    "Arguably, Machine Learning models have one sole purpose; to generalize well.\n",
    "\n",
    "> Generalization is the model’s ability to give sensible outputs to sets of input that it has never seen before.\n",
    "\n",
    "### An Example\n",
    "Let’s say we’re trying to build a Machine Learning model for the following data set.\n",
    "\n",
    "<img src=\"https://drive.google.com/uc?id=1TUheRJ5r2mvg1udGqy4_McTMQpfsa1Il\" width=\"500\" align=\"center\"/>\n",
    "\n",
    "\n",
    "\n",
    "\n",
    "\n",
    "\n"
   ]
  },
  {
   "cell_type": "markdown",
   "metadata": {
    "id": "6wZB9TgUP92C"
   },
   "source": [
    "<img src=\"https://drive.google.com/uc?id=1Ml5Yuez3MU-c_tFawOYZ15LQf-eqYS_n\" width=\"1500\" height=\"10\" align=\"center\"/>\n"
   ]
  },
  {
   "cell_type": "markdown",
   "metadata": {
    "id": "GFHXTGGRP92C"
   },
   "source": [
    "### **A fit model**\n",
    "Training the Linear Regression model in our example is all about minimizing the total distance (i.e. cost) between the line we’re trying to fit and the actual data points. This goes through multiple iterations until we find the relatively “optimal” configuration of our line within the data set. This is exactly where overfitting and underfitting occur.\n",
    "\n",
    "> In Linear Regression, we would like our model to follow a line similar to the following:\n",
    "\n",
    "<img src=\"https://drive.google.com/uc?id=1sb659CEsiQRPFuwOHpEqrb28TRqiWmXv\" width=\"450\"  align=\"center\"/>\n",
    "\n",
    ">The line above could give a very likely prediction for the new input, as, in terms of Machine Learning, the outputs are expected to follow the trend seen in the training set."
   ]
  },
  {
   "cell_type": "markdown",
   "metadata": {
    "id": "w0AYBN-EP92C"
   },
   "source": [
    "<img src=\"https://drive.google.com/uc?id=1Ml5Yuez3MU-c_tFawOYZ15LQf-eqYS_n\" width=\"1500\" height=\"10\" align=\"center\"/>\n"
   ]
  },
  {
   "cell_type": "markdown",
   "metadata": {
    "id": "3CYmWfzrP92C"
   },
   "source": [
    "### **Overfitting**\n",
    "When we run our training algorithm on the data set, we allow the overall cost (i.e. distance from each point to the line) to become smaller with more iterations. Leaving this training algorithm run for long leads to minimal overall cost. However, this means that the line will be fit into all the points (including noise), catching secondary patterns that may not be needed for the generalizability of the model.\n",
    "> Referring back to our example, if we leave the learning algorithm running for long, it cold end up fitting the line in the following manner:\n",
    "<img src=\"https://drive.google.com/uc?id=1QMpM5fUvymTICT2-EsvNwBi2nTIGWXON\" width=\"500\" align=\"center\"/>\n",
    "\n",
    ">This looks good, right? Yes, but is it reliable? Well, not really.\n",
    "\n",
    "> If the model does not capture the dominant trend that we can all see (positively increasing, in our case), it can’t predict a likely output for an input that it has never seen before — defying the purpose of Machine Learning to begin with!\n",
    "\n",
    ">Overfitting is the case where the overall cost is really small, but the generalization of the model is unreliable. This is due to the model learning “too much” from the training data set.\n",
    "\n",
    ">> We always want to find the trend, not fit the line to all the data points."
   ]
  },
  {
   "cell_type": "markdown",
   "metadata": {
    "id": "Se7x-dZnP92D"
   },
   "source": [
    "<img src=\"https://drive.google.com/uc?id=1Ml5Yuez3MU-c_tFawOYZ15LQf-eqYS_n\" width=\"1500\" height=\"10\" align=\"center\"/>\n"
   ]
  },
  {
   "cell_type": "markdown",
   "metadata": {
    "id": "FQsNPmV2P92D"
   },
   "source": [
    "### **Underfitting**\n",
    "We want the model to learn from the training data, but we don’t want it to learn too much (i.e. too many patterns). One solution could be to stop the training earlier. However, this could lead the model to not learn enough patterns from the training data, and possibly not even capture the dominant trend. This case is called underfitting.\n",
    "\n",
    ">Underfitting is the case where the model has “ not learned enough” from the training data, resulting in low generalization and unreliable predictions.\n",
    "\n",
    "<img src=\"https://drive.google.com/uc?id=15iKKKJ2avKn2wJf1GILcmr9ToegioHqQ\" width=\"450\" align=\"center\"/>\n",
    "\n",
    "\n",
    "\n",
    "### Bias-variance trade-off\n",
    "\n",
    "So what is the right measure? Depending on the model at hand, a performance that lies between overfitting and underfitting is more desirable. This trade-off is the most integral aspect of Machine Learning model training. As we discussed, Machine Learning models fulfill their purpose when they generalize well. Generalization is bound by the two undesirable outcomes — high bias and high variance. Detecting whether the model suffers from either one is the sole responsibility of the model developer."
   ]
  },
  {
   "cell_type": "code",
   "execution_count": null,
   "metadata": {
    "ExecuteTime": {
     "end_time": "2024-04-04T07:02:57.134213Z",
     "start_time": "2024-04-04T07:02:56.635882Z"
    },
    "id": "Vk9Q7qXQP92D",
    "outputId": "a0ba72ed-4f2a-44d4-8873-30d2588ddbea"
   },
   "outputs": [
    {
     "name": "stdout",
     "output_type": "stream",
     "text": [
      "Mean Squared Error (Linear Regression): 1.0549\n",
      "Mean Squared Error (Polynomial Regression): 5757699240.2723\n",
      "Mean Squared Error (Well-Fitted Model): 1.4879\n"
     ]
    },
    {
     "data": {
      "image/png": "[encoded data removed]",
      "text/plain": [
       "<Figure size 1440x360 with 4 Axes>"
      ]
     },
     "metadata": {
      "needs_background": "light"
     },
     "output_type": "display_data"
    }
   ],
   "source": [
    "import numpy as np\n",
    "import matplotlib.pyplot as plt\n",
    "from sklearn.linear_model import LinearRegression\n",
    "from sklearn.preprocessing import PolynomialFeatures\n",
    "from sklearn.metrics import mean_squared_error\n",
    "\n",
    "# Generate synthetic data\n",
    "np.random.seed(0)\n",
    "X = np.sort(5 * np.random.rand(80, 1), axis=0)\n",
    "y = np.sin(X).ravel() + np.random.randn(80) * 0.1\n",
    "\n",
    "# Split the data into training and testing sets\n",
    "X_train, X_test = X[:60], X[60:]\n",
    "y_train, y_test = y[:60], y[60:]\n",
    "\n",
    "# Create a range of X values for plotting\n",
    "X_range = np.linspace(0, 5, 100).reshape(-1, 1)\n",
    "\n",
    "# Create subplots for visualization\n",
    "fig, axes = plt.subplots(1, 4, figsize=(20, 5))\n",
    "\n",
    "# Plot the data points\n",
    "axes[0].scatter(X, y, s=20, edgecolor=\"black\", c=\"darkorange\", label=\"Data\")\n",
    "axes[0].set_title(\"Data Points\")\n",
    "\n",
    "# Plot a simple linear regression model (underfitting)\n",
    "lr = LinearRegression()\n",
    "lr.fit(X_train, y_train)\n",
    "y_lr = lr.predict(X_range)\n",
    "axes[1].scatter(X, y, s=20, edgecolor=\"black\", c=\"darkorange\", label=\"Data\")\n",
    "axes[1].plot(X_range, y_lr, label=\"Linear Regression\", lw=2)\n",
    "axes[1].set_title(\"Linear Regression (Underfitting)\")\n",
    "\n",
    "# Plot a high-degree polynomial regression model (overfitting)\n",
    "degree = 15\n",
    "poly = PolynomialFeatures(degree=degree)\n",
    "X_train_poly = poly.fit_transform(X_train)\n",
    "lr_poly = LinearRegression()\n",
    "lr_poly.fit(X_train_poly, y_train)\n",
    "X_range_poly = poly.transform(X_range)\n",
    "y_lr_poly = lr_poly.predict(X_range_poly)\n",
    "axes[2].scatter(X, y, s=20, edgecolor=\"black\", c=\"darkorange\", label=\"Data\")\n",
    "axes[2].plot(X_range, y_lr_poly, label=\"Polynomial (Overfitting)\", lw=2)\n",
    "axes[2].set_title(\"Polynomial Regression (Overfitting)\")\n",
    "\n",
    "# Plot a well-fitted model (Balanced)\n",
    "degree_well_fitted = 3  # A moderate degree for a well-fitted model\n",
    "poly_well_fitted = PolynomialFeatures(degree=degree_well_fitted)\n",
    "X_train_well_fitted = poly_well_fitted.fit_transform(X_train)\n",
    "lr_well_fitted = LinearRegression()\n",
    "lr_well_fitted.fit(X_train_well_fitted, y_train)\n",
    "X_range_well_fitted = poly_well_fitted.transform(X_range)\n",
    "y_lr_well_fitted = lr_well_fitted.predict(X_range_well_fitted)\n",
    "axes[3].scatter(X, y, s=20, edgecolor=\"black\", c=\"darkorange\", label=\"Data\")\n",
    "axes[3].plot(X_range, y_lr_well_fitted, label=\"Well-Fitted Model\", lw=2)\n",
    "axes[3].set_title(\"Well-Fitted Model (Balanced)\")\n",
    "\n",
    "# Set plot labels and legends\n",
    "for ax in axes:\n",
    "    ax.set_xlabel(\"X\")\n",
    "    ax.set_ylabel(\"y\")\n",
    "    ax.legend()\n",
    "\n",
    "# Calculate and print Mean Squared Error for all models\n",
    "mse_lr = mean_squared_error(y_test, lr.predict(X_test))\n",
    "mse_lr_poly = mean_squared_error(y_test, lr_poly.predict(X_range_poly[80::]))\n",
    "mse_lr_well_fitted = mean_squared_error(y_test, lr_well_fitted.predict(X_range_well_fitted[80::]))\n",
    "print(f\"Mean Squared Error (Linear Regression): {mse_lr:.4f}\")\n",
    "print(f\"Mean Squared Error (Polynomial Regression): {mse_lr_poly:.4f}\")\n",
    "print(f\"Mean Squared Error (Well-Fitted Model): {mse_lr_well_fitted:.4f}\")\n",
    "\n",
    "plt.show()\n"
   ]
  },
  {
   "cell_type": "markdown",
   "metadata": {
    "id": "PdpBEz-hP92D"
   },
   "source": [
    "<img src=\"https://drive.google.com/uc?id=1Ml5Yuez3MU-c_tFawOYZ15LQf-eqYS_n\" width=\"1500\" height=\"10\" align=\"center\"/>\n"
   ]
  },
  {
   "cell_type": "markdown",
   "metadata": {
    "id": "6TYZm7XBP92D"
   },
   "source": [
    "## **3.4 Test Train Split**\n",
    "\n",
    "Should we use all the data for training a model?\n",
    "\n",
    "\n",
    "> Data Scientists usually keep parts of the data for testing the model performance\n",
    ">\n",
    "<img src=\"https://drive.google.com/uc?id=1tGQQgR2IgILN07yOY_g-DvhU9QI6xGDQ\" width=\"500\"  align=\"center\"/>\n",
    "\n",
    "> if we use all the data for training then we do not have any way of evaluating the model performance.\n",
    "\n",
    "\n",
    "\n",
    "\n",
    "\n"
   ]
  },
  {
   "cell_type": "markdown",
   "metadata": {
    "id": "0KMJanRzP92E"
   },
   "source": [
    "<img src=\"https://drive.google.com/uc?id=1Ml5Yuez3MU-c_tFawOYZ15LQf-eqYS_n\" width=\"1500\" height=\"10\" align=\"center\"/>\n"
   ]
  },
  {
   "cell_type": "markdown",
   "metadata": {
    "id": "Ufr8BanHP92E"
   },
   "source": [
    "<img src=\"https://drive.google.com/uc?id=13Hxi-qopZiMZOPSaQ3m0BSoP1xdUAS-2\" align=\"center\"/>\n",
    "\n",
    "<img src=\"https://drive.google.com/uc?id=1Ml5Yuez3MU-c_tFawOYZ15LQf-eqYS_n\" width=\"1500\" height=\"10\" align=\"center\"/>\n"
   ]
  },
  {
   "cell_type": "markdown",
   "metadata": {
    "id": "yVBRjGndP92E"
   },
   "source": [
    "<img src=\"https://drive.google.com/uc?id=1zmM2KSMYELPM5g4JxfimFUFaYiiVy5bC\" align=\"center\"/>\n",
    "\n",
    "<img src=\"https://drive.google.com/uc?id=1Ml5Yuez3MU-c_tFawOYZ15LQf-eqYS_n\" width=\"1500\" height=\"10\" align=\"center\"/>\n"
   ]
  },
  {
   "cell_type": "markdown",
   "metadata": {
    "id": "SWUyeckoP92E"
   },
   "source": [
    "<img src=\"https://drive.google.com/uc?id=1KK7Osl0OXZ6-Jt5VESX-jt3cwTgka4OM\" align=\"center\"/>\n",
    "\n",
    "<img src=\"https://drive.google.com/uc?id=1Ml5Yuez3MU-c_tFawOYZ15LQf-eqYS_n\" width=\"1500\" height=\"10\" align=\"center\"/>\n"
   ]
  },
  {
   "cell_type": "markdown",
   "metadata": {
    "id": "0Qog-lE9P92E"
   },
   "source": [
    "<img src=\"https://drive.google.com/uc?id=1qgEXJBw6ucAyZVvSddtdKxOs6JS58EJl\" align=\"center\"/>\n",
    "\n",
    "<img src=\"https://drive.google.com/uc?id=1Ml5Yuez3MU-c_tFawOYZ15LQf-eqYS_n\" width=\"1500\" height=\"10\" align=\"center\"/>\n"
   ]
  },
  {
   "cell_type": "markdown",
   "metadata": {
    "id": "A9Skfp4YP92E"
   },
   "source": [
    "# **Step 4. Use Cases**\n",
    "**What are some of the use cases for AI/ML ?**\n",
    "\n",
    "- Nearly all occupations will be affected by automation\n",
    "> - But only about 5 percent of occupations could be fully automated by currently demonstrated technologies.\n",
    "- Many more occupations have portions of their constituent activities that are automatable:\n",
    "> - we find that about 30 percent of the activities in 60 percent of all occupations could be automated.\n",
    "\n",
    "<img src=\"https://drive.google.com/uc?id=1kmsN7Do8dI3fwCYodMs5P3NoUg3URDWj\" width=\"700\" align=\"center\"/>\n",
    "\n",
    "> - the size of the output model can be alot smaller than the training data"
   ]
  },
  {
   "cell_type": "markdown",
   "metadata": {
    "id": "UB5c-OEUP92E"
   },
   "source": [
    "<img src=\"https://drive.google.com/uc?id=1Ml5Yuez3MU-c_tFawOYZ15LQf-eqYS_n\" width=\"1500\" height=\"10\" align=\"center\"/>\n"
   ]
  },
  {
   "cell_type": "markdown",
   "metadata": {
    "id": "0Xmo25Z0P92E"
   },
   "source": [
    "## **4.1  Example AI/ML Use Cases**\n",
    "\n",
    "- [This Person is not real](https://thispersondoesnotexist.com/)\n",
    "- [Google Quick Draw](https://quickdraw.withgoogle.com/)\n",
    "- [Deep Dream Generator](https://deepdreamgenerator.com/)\n",
    "- [Self Driving Cars](https://en.wikipedia.org/wiki/Tesla_Autopilot)\n",
    "- [Search](https://google.com)\n",
    "- [Movie Recommendations](https://netflix.com)\n",
    "- [ChatGPT](https://chat.openai.com)\n",
    "- Add your own!\n",
    "\n",
    "Checkout: `11-exercise-simulated-lifecycle.md` in the additional resources folder"
   ]
  },
  {
   "cell_type": "markdown",
   "metadata": {
    "id": "Mr592rPzP92F"
   },
   "source": [
    "<img src=\"https://drive.google.com/uc?id=1Ml5Yuez3MU-c_tFawOYZ15LQf-eqYS_n\" width=\"1500\" height=\"10\" align=\"center\"/>\n"
   ]
  },
  {
   "cell_type": "markdown",
   "metadata": {},
   "source": [
    "# Group Exercise: Evaluate Failure Use Cases\n",
    "\n",
    "Go to the addtional resources folder and looke at `05-exercise-evaluating-failures.md`"
   ]
  },
  {
   "cell_type": "markdown",
   "metadata": {
    "id": "Mr592rPzP92F"
   },
   "source": [
    "<img src=\"https://drive.google.com/uc?id=1Ml5Yuez3MU-c_tFawOYZ15LQf-eqYS_n\" width=\"1500\" height=\"10\" align=\"center\"/>\n"
   ]
  },
  {
   "cell_type": "markdown",
   "metadata": {
    "id": "Ep715yCJP92F"
   },
   "source": [
    "## **AI Ethics**\n",
    "\n",
    "As an engineer or some other non-philosopher it can be very easy to forget about ethics and simply build systems for the sake of building cool things. We must, however, be aware of the potential outcomes of our build decisions when it comes to highly complex, sophisticated, and potentially impactful systems.\n",
    "\n",
    "\n",
    "### Data-Biasing\n",
    "\n",
    "The quality of your model is usually a direct result of the quality and quantity of your data.\n",
    "\n",
    "You can imagine a myriad of situations in which classification problems could go wrong because of bias in past data. From an ethical perspective, I think we can all agree that systems which discriminate against individuals on the basis of race, gender, age, ethnicity, etc.\n",
    "\n",
    "Some bad outcomes:\n",
    "> Security systems trained to discriminate based on an individual’s race or gender.\n",
    "\n",
    "> An AI based resume review tool that values the gender of applicants\n",
    "\n",
    "> Facial recognition systems that lack a diverse training set, resulting in only detecting the race for which they are trained\n",
    "\n",
    "> Court systems (AI judges/juries) with past biased rulings against certain races as the training data\n",
    "\n",
    "<img src=\"https://drive.google.com/uc?id=1zmyiM0hEw_5NUFDUhwNWFqyUYzZay8qg\" width=\"350\" height=\"350\" align=\"center\"/>\n",
    "\n",
    "### How to Avoid Bias?\n",
    "Ultimately, the majority of these issues can be solved by some human-centered approaches to acquiring, cleaning, labeling, and annotating data. But this can be especially difficult.\n",
    "\n",
    "> Our AI in many ways are mirrors of the people who train them.\n",
    "\n",
    "\n",
    "We need to develop some approach for identifying AI that are not performing within our ethical framework and are producing net bad outcomes for society."
   ]
  },
  {
   "cell_type": "markdown",
   "metadata": {
    "id": "KQ1qBNCgP92F"
   },
   "source": [
    "<img src=\"https://drive.google.com/uc?id=1Ml5Yuez3MU-c_tFawOYZ15LQf-eqYS_n\" width=\"1500\" height=\"10\" align=\"center\"/>\n"
   ]
  }
 ],
 "metadata": {
  "celltoolbar": "Slideshow",
  "colab": {
   "provenance": []
  },
  "kernelspec": {
   "display_name": "Python 3",
   "language": "python",
   "name": "python3"
  },
  "language_info": {
   "codemirror_mode": {
    "name": "ipython",
    "version": 3
   },
   "file_extension": ".py",
   "mimetype": "text/x-python",
   "name": "python",
   "nbconvert_exporter": "python",
   "pygments_lexer": "ipython3",
   "version": "3.7.6"
  }
 },
 "nbformat": 4,
 "nbformat_minor": 1
}
